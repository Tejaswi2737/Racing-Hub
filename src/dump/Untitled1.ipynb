{
 "cells": [
  {
   "cell_type": "code",
   "execution_count": 4,
   "metadata": {},
   "outputs": [],
   "source": [
    "import pandas as pd \n",
    "df_today=pd.read_json('today_json.json')\n",
    "result_pool=pd.read_json('result_pool.json')\n"
   ]
  },
  {
   "cell_type": "code",
   "execution_count": 6,
   "metadata": {},
   "outputs": [
    {
     "data": {
      "text/html": [
       "<div>\n",
       "<style scoped>\n",
       "    .dataframe tbody tr th:only-of-type {\n",
       "        vertical-align: middle;\n",
       "    }\n",
       "\n",
       "    .dataframe tbody tr th {\n",
       "        vertical-align: top;\n",
       "    }\n",
       "\n",
       "    .dataframe thead th {\n",
       "        text-align: right;\n",
       "    }\n",
       "</style>\n",
       "<table border=\"1\" class=\"dataframe\">\n",
       "  <thead>\n",
       "    <tr style=\"text-align: right;\">\n",
       "      <th></th>\n",
       "      <th>stake_cents</th>\n",
       "      <th>bet_created</th>\n",
       "      <th>payout_cents</th>\n",
       "      <th>bet_status</th>\n",
       "      <th>bet_fh</th>\n",
       "      <th>bet_ticket</th>\n",
       "      <th>boxed_runners</th>\n",
       "      <th>bet_pool_fh</th>\n",
       "    </tr>\n",
       "  </thead>\n",
       "  <tbody>\n",
       "    <tr>\n",
       "      <th>0</th>\n",
       "      <td>100</td>\n",
       "      <td>Sun, 03 May 2020 16:44:53 GMT</td>\n",
       "      <td>42</td>\n",
       "      <td>settled_won</td>\n",
       "      <td>sk_integ_100</td>\n",
       "      <td>1b51c3aab03ba41edcd12c9aea79cb3a5661d0c003f165...</td>\n",
       "      <td>1</td>\n",
       "      <td>2020-05-04_racing_harness_test-do-not-bet-on_1_t</td>\n",
       "    </tr>\n",
       "    <tr>\n",
       "      <th>1</th>\n",
       "      <td>100</td>\n",
       "      <td>Sun, 03 May 2020 16:44:53 GMT</td>\n",
       "      <td>42</td>\n",
       "      <td>settled_won</td>\n",
       "      <td>sk_integ_100</td>\n",
       "      <td>1b51c3aab03ba41edcd12c9aea79cb3a5661d0c003f165...</td>\n",
       "      <td>2</td>\n",
       "      <td>2020-05-04_racing_harness_test-do-not-bet-on_1_t</td>\n",
       "    </tr>\n",
       "    <tr>\n",
       "      <th>2</th>\n",
       "      <td>100</td>\n",
       "      <td>Sun, 03 May 2020 16:44:53 GMT</td>\n",
       "      <td>42</td>\n",
       "      <td>settled_won</td>\n",
       "      <td>sk_integ_100</td>\n",
       "      <td>1b51c3aab03ba41edcd12c9aea79cb3a5661d0c003f165...</td>\n",
       "      <td>3</td>\n",
       "      <td>2020-05-04_racing_harness_test-do-not-bet-on_1_t</td>\n",
       "    </tr>\n",
       "  </tbody>\n",
       "</table>\n",
       "</div>"
      ],
      "text/plain": [
       "   stake_cents                    bet_created  payout_cents   bet_status  \\\n",
       "0          100  Sun, 03 May 2020 16:44:53 GMT            42  settled_won   \n",
       "1          100  Sun, 03 May 2020 16:44:53 GMT            42  settled_won   \n",
       "2          100  Sun, 03 May 2020 16:44:53 GMT            42  settled_won   \n",
       "\n",
       "         bet_fh                                         bet_ticket  \\\n",
       "0  sk_integ_100  1b51c3aab03ba41edcd12c9aea79cb3a5661d0c003f165...   \n",
       "1  sk_integ_100  1b51c3aab03ba41edcd12c9aea79cb3a5661d0c003f165...   \n",
       "2  sk_integ_100  1b51c3aab03ba41edcd12c9aea79cb3a5661d0c003f165...   \n",
       "\n",
       "   boxed_runners                                       bet_pool_fh  \n",
       "0              1  2020-05-04_racing_harness_test-do-not-bet-on_1_t  \n",
       "1              2  2020-05-04_racing_harness_test-do-not-bet-on_1_t  \n",
       "2              3  2020-05-04_racing_harness_test-do-not-bet-on_1_t  "
      ]
     },
     "execution_count": 6,
     "metadata": {},
     "output_type": "execute_result"
    }
   ],
   "source": [
    "result_pool"
   ]
  },
  {
   "cell_type": "code",
   "execution_count": null,
   "metadata": {},
   "outputs": [],
   "source": []
  }
 ],
 "metadata": {
  "hide_input": false,
  "kernelspec": {
   "display_name": "Python 3",
   "language": "python",
   "name": "python3"
  },
  "language_info": {
   "codemirror_mode": {
    "name": "ipython",
    "version": 3
   },
   "file_extension": ".py",
   "mimetype": "text/x-python",
   "name": "python",
   "nbconvert_exporter": "python",
   "pygments_lexer": "ipython3",
   "version": "3.7.4"
  }
 },
 "nbformat": 4,
 "nbformat_minor": 2
}
